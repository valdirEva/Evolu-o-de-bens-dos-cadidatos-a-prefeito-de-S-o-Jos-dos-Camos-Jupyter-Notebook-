{
 "cells": [
  {
   "cell_type": "code",
   "execution_count": 2,
   "metadata": {},
   "outputs": [],
   "source": [
    "import pandas as pd\n",
    "low_memory=False\n",
    "%matplotlib inline\n",
    "pd.options.display.max_columns = 80\n",
    "pd.options.display.max_rows = 90"
   ]
  },
  {
   "cell_type": "code",
   "execution_count": 4,
   "metadata": {},
   "outputs": [],
   "source": [
    "df = pd.read_csv('bem_candidato_2020_SP.csv',encoding='latin-1',sep=';')"
   ]
  },
  {
   "cell_type": "code",
   "execution_count": null,
   "metadata": {},
   "outputs": [],
   "source": [
    "df['NM_UE'].value_counts()"
   ]
  },
  {
   "cell_type": "code",
   "execution_count": 6,
   "metadata": {},
   "outputs": [
    {
     "data": {
      "text/html": [
       "<div>\n",
       "<style scoped>\n",
       "    .dataframe tbody tr th:only-of-type {\n",
       "        vertical-align: middle;\n",
       "    }\n",
       "\n",
       "    .dataframe tbody tr th {\n",
       "        vertical-align: top;\n",
       "    }\n",
       "\n",
       "    .dataframe thead th {\n",
       "        text-align: right;\n",
       "    }\n",
       "</style>\n",
       "<table border=\"1\" class=\"dataframe\">\n",
       "  <thead>\n",
       "    <tr style=\"text-align: right;\">\n",
       "      <th></th>\n",
       "      <th>NM_UE</th>\n",
       "      <th>SQ_CANDIDATO</th>\n",
       "      <th>NR_ORDEM_CANDIDATO</th>\n",
       "      <th>CD_TIPO_BEM_CANDIDATO</th>\n",
       "      <th>DS_TIPO_BEM_CANDIDATO</th>\n",
       "      <th>DS_BEM_CANDIDATO</th>\n",
       "      <th>VR_BEM_CANDIDATO</th>\n",
       "      <th>DT_ULTIMA_ATUALIZACAO</th>\n",
       "      <th>HH_ULTIMA_ATUALIZACAO</th>\n",
       "    </tr>\n",
       "  </thead>\n",
       "  <tbody>\n",
       "    <tr>\n",
       "      <th>0</th>\n",
       "      <td>PONTAL</td>\n",
       "      <td>250000631783</td>\n",
       "      <td>1</td>\n",
       "      <td>32</td>\n",
       "      <td>Quotas ou quinhões de capital</td>\n",
       "      <td>Sócio da empresa JAC SILVA CONSTRUCAO CIVIL LT...</td>\n",
       "      <td>40000,00</td>\n",
       "      <td>17/09/2020</td>\n",
       "      <td>19:09:35</td>\n",
       "    </tr>\n",
       "  </tbody>\n",
       "</table>\n",
       "</div>"
      ],
      "text/plain": [
       "    NM_UE  SQ_CANDIDATO  NR_ORDEM_CANDIDATO  CD_TIPO_BEM_CANDIDATO  \\\n",
       "0  PONTAL  250000631783                   1                     32   \n",
       "\n",
       "           DS_TIPO_BEM_CANDIDATO  \\\n",
       "0  Quotas ou quinhões de capital   \n",
       "\n",
       "                                    DS_BEM_CANDIDATO VR_BEM_CANDIDATO  \\\n",
       "0  Sócio da empresa JAC SILVA CONSTRUCAO CIVIL LT...         40000,00   \n",
       "\n",
       "  DT_ULTIMA_ATUALIZACAO HH_ULTIMA_ATUALIZACAO  \n",
       "0            17/09/2020              19:09:35  "
      ]
     },
     "execution_count": 6,
     "metadata": {},
     "output_type": "execute_result"
    }
   ],
   "source": [
    "df[(df['CD_TIPO_ELEICAO']==2)].iloc[0:1,10:19]"
   ]
  },
  {
   "cell_type": "code",
   "execution_count": null,
   "metadata": {},
   "outputs": [],
   "source": []
  }
 ],
 "metadata": {
  "kernelspec": {
   "display_name": "Python 3",
   "language": "python",
   "name": "python3"
  },
  "language_info": {
   "codemirror_mode": {
    "name": "ipython",
    "version": 3
   },
   "file_extension": ".py",
   "mimetype": "text/x-python",
   "name": "python",
   "nbconvert_exporter": "python",
   "pygments_lexer": "ipython3",
   "version": "3.8.5"
  }
 },
 "nbformat": 4,
 "nbformat_minor": 4
}
